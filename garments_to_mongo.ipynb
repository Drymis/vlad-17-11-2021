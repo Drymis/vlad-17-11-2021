{
 "cells": [
  {
   "cell_type": "code",
   "execution_count": 20,
   "metadata": {},
   "outputs": [],
   "source": [
    "# fetch garments\n",
    "\n",
    "import urllib\n",
    "\n",
    "import urllib.request\n",
    "with urllib.request.urlopen('https://stylr-ai-engine-srv-data.s3.eu-west-1.amazonaws.com//srv/data/new_scrapes/shopstyle-1689-men-18-03-2019/garment_items.jl') as f:\n",
    "    file_content = f.read().decode('utf-8')\n",
    "\n",
    "    with open('tmp/garment_items.jl', 'w') as f:\n",
    "        f.write(file_content)"
   ]
  },
  {
   "cell_type": "code",
   "execution_count": 21,
   "metadata": {},
   "outputs": [],
   "source": [
    "# garments julia to json\n",
    "\n",
    "filepath = 'tmp/garment_items.jl'\n",
    "\n",
    "with open('tmp/garment_items.jl', 'r') as file :\n",
    "  filedata = file.read()\n",
    "\n",
    "filedata = filedata.replace('\\n', ',')\n",
    "filedata = f'[{filedata[:-1]}]'\n",
    "\n",
    "with open('tmp/garment_items_out.json', 'w') as file_out:\n",
    "  file_out.write(filedata)"
   ]
  },
  {
   "cell_type": "code",
   "execution_count": 22,
   "metadata": {},
   "outputs": [],
   "source": [
    "# insert garment to mongo\n",
    "\n",
    "# pip install pymongo\n",
    "\n",
    "import json\n",
    "from pymongo import MongoClient\n",
    "\n",
    "client = MongoClient('localhost', 27017)\n",
    "db = client['intelistyle']\n",
    "collection_product = db['garment']\n",
    "\n",
    "with open('tmp/garment_items_out.json') as f:\n",
    "    file_data = json.load(f)\n",
    "\n",
    "collection_product.insert_many(file_data)\n",
    "\n",
    "client.close()"
   ]
  },
  {
   "cell_type": "code",
   "execution_count": 23,
   "metadata": {},
   "outputs": [],
   "source": [
    "# cleanup\n",
    "\n",
    "import shutil\n",
    "shutil.rmtree('tmp', ignore_errors=True)"
   ]
  },
  {
   "cell_type": "code",
   "execution_count": null,
   "metadata": {},
   "outputs": [],
   "source": []
  }
 ],
 "metadata": {
  "interpreter": {
   "hash": "d454e4f8de44df92c6de87d9fb50ce36311cb62dc9f1ee7a0e4e7c33711b20d2"
  },
  "kernelspec": {
   "display_name": "Python 3.8.1 64-bit",
   "name": "python3"
  },
  "language_info": {
   "codemirror_mode": {
    "name": "ipython",
    "version": 3
   },
   "file_extension": ".py",
   "mimetype": "text/x-python",
   "name": "python",
   "nbconvert_exporter": "python",
   "pygments_lexer": "ipython3",
   "version": "3.8.1"
  },
  "orig_nbformat": 4
 },
 "nbformat": 4,
 "nbformat_minor": 2
}
